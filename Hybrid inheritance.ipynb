{
 "cells": [
  {
   "cell_type": "code",
   "execution_count": 3,
   "id": "438c4c73",
   "metadata": {},
   "outputs": [],
   "source": [
    "#combines two or more types of inheritance\n",
    "\n",
    "class A:\n",
    "    def display(self):\n",
    "        print(\"Display from A class\")\n",
    "        \n",
    "class B(A):\n",
    "    def display(self):\n",
    "        print(\"Display from B class\")\n",
    "\n",
    "class C:\n",
    "    def show(self):\n",
    "        print(\"show yourself\")\n",
    "        \n",
    "class D(B,C):\n",
    "    def display(self):\n",
    "        B.display(self)\n",
    "        print(\"Display from D class\")\n",
    "        \n",
    "d1 =D()"
   ]
  },
  {
   "cell_type": "code",
   "execution_count": 4,
   "id": "5b7f79ef",
   "metadata": {},
   "outputs": [
    {
     "name": "stdout",
     "output_type": "stream",
     "text": [
      "Display from B class\n",
      "Display from D class\n"
     ]
    }
   ],
   "source": [
    "d1.display()"
   ]
  },
  {
   "cell_type": "code",
   "execution_count": null,
   "id": "e2700e32",
   "metadata": {},
   "outputs": [],
   "source": []
  }
 ],
 "metadata": {
  "kernelspec": {
   "display_name": "Python 3 (ipykernel)",
   "language": "python",
   "name": "python3"
  },
  "language_info": {
   "codemirror_mode": {
    "name": "ipython",
    "version": 3
   },
   "file_extension": ".py",
   "mimetype": "text/x-python",
   "name": "python",
   "nbconvert_exporter": "python",
   "pygments_lexer": "ipython3",
   "version": "3.9.12"
  }
 },
 "nbformat": 4,
 "nbformat_minor": 5
}
