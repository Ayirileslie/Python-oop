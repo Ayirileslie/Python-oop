{
 "cells": [
  {
   "cell_type": "markdown",
   "id": "e413cc08",
   "metadata": {},
   "source": [
    "\n",
    "Creating classes and adding objects to them is fundamental to using Object-Oriented Programming (OOP) in Python. Let’s go through the basics step-by-step with examples.\n",
    "\n",
    "### Step 1: Creating a Class\n",
    "In Python, a class is created using the class keyword followed by the class name and a colon. Inside the class, you can define attributes (data) and methods (functions)."
   ]
  },
  {
   "cell_type": "code",
   "execution_count": 1,
   "id": "5689bb5d",
   "metadata": {},
   "outputs": [],
   "source": [
    "#Syntax\n",
    "\n",
    "class ClassName:\n",
    "    # Class attributes and methods go here\n",
    "    pass"
   ]
  },
  {
   "cell_type": "code",
   "execution_count": 2,
   "id": "1ccac79e",
   "metadata": {},
   "outputs": [],
   "source": [
    "# Here’s an example of a simple class called Person:\n",
    "\n",
    "class Person:\n",
    "    # Initializer method to set up an object with name and age attributes\n",
    "    def __init__(self, name, age):\n",
    "        self.name = name  # Attribute 1\n",
    "        self.age = age    # Attribute 2\n",
    "\n",
    "    # Method to display information about the person\n",
    "    def introduce(self):\n",
    "        return f\"Hello, my name is {self.name} and I am {self.age} years old.\"\n"
   ]
  },
  {
   "cell_type": "markdown",
   "id": "0ae718db",
   "metadata": {},
   "source": [
    "In this example:\n",
    "\n",
    "__init__ method: A special method called a constructor, which initializes the object's attributes when an object is created.\n",
    "\n",
    "Attributes: name and age are attributes of the Person class, set when creating an object.\n",
    "\n",
    "Method: introduce is a method that describes what the Person object can do (in this case, introduce themselves)."
   ]
  },
  {
   "cell_type": "markdown",
   "id": "e5a70442",
   "metadata": {},
   "source": [
    "### Step 2: Creating Objects of a Class\n",
    "An object is an instance of a class, meaning it’s created based on the class blueprint and has its own specific data. To create an object, you simply call the class as if it were a function, passing any necessary arguments to the constructor.#"
   ]
  },
  {
   "cell_type": "code",
   "execution_count": 3,
   "id": "0f65bf34",
   "metadata": {},
   "outputs": [
    {
     "name": "stdout",
     "output_type": "stream",
     "text": [
      "Alice\n",
      "30\n",
      "Hello, my name is Alice and I am 25 years old.\n",
      "Hello, my name is Bob and I am 30 years old.\n"
     ]
    }
   ],
   "source": [
    "#Example\n",
    "\n",
    "# Creating an object of the Person class\n",
    "person1 = Person(\"Alice\", 25)\n",
    "person2 = Person(\"Bob\", 30)\n",
    "\n",
    "# Accessing attributes\n",
    "print(person1.name)  # Output: Alice\n",
    "print(person2.age)   # Output: 30\n",
    "\n",
    "# Calling methods\n",
    "print(person1.introduce())  # Output: Hello, my name is Alice and I am 25 years old.\n",
    "print(person2.introduce())  # Output: Hello, my name is Bob and I am 30 years old.\n"
   ]
  },
  {
   "cell_type": "markdown",
   "id": "5b2d2ba6",
   "metadata": {},
   "source": [
    "In this example:\n",
    "\n",
    "person1 and person2 are objects of the Person class with different values for name and age.\n",
    "\n",
    "We access an object’s attributes (like name and age) using dot notation.\n",
    "\n",
    "We call an object’s methods (like introduce) using dot notation as well."
   ]
  },
  {
   "cell_type": "markdown",
   "id": "7105f6d4",
   "metadata": {},
   "source": [
    "## Step 3: Adding Multiple Objects to a Class\n",
    "In Python, you can create as many objects of a class as you need. Each object can have its own unique set of data (attributes), but they all share the same methods defined in the class.\n",
    "\n",
    "Here’s an example where we create multiple objects of a Book class:"
   ]
  },
  {
   "cell_type": "code",
   "execution_count": 4,
   "id": "4a4739f1",
   "metadata": {},
   "outputs": [
    {
     "name": "stdout",
     "output_type": "stream",
     "text": [
      "'To Kill a Mockingbird' by Harper Lee (1960)\n",
      "'1984' by George Orwell (1949)\n",
      "'Pride and Prejudice' by Jane Austen (1813)\n"
     ]
    }
   ],
   "source": [
    "class Book:\n",
    "    def __init__(self, title, author, year):\n",
    "        self.title = title\n",
    "        self.author = author\n",
    "        self.year = year\n",
    "\n",
    "    def display_info(self):\n",
    "        return f\"'{self.title}' by {self.author} ({self.year})\"\n",
    "\n",
    "# Creating multiple book objects\n",
    "book1 = Book(\"To Kill a Mockingbird\", \"Harper Lee\", 1960)\n",
    "book2 = Book(\"1984\", \"George Orwell\", 1949)\n",
    "book3 = Book(\"Pride and Prejudice\", \"Jane Austen\", 1813)\n",
    "\n",
    "# Accessing and displaying information for each book\n",
    "print(book1.display_info())  # Output: 'To Kill a Mockingbird' by Harper Lee (1960)\n",
    "print(book2.display_info())  # Output: '1984' by George Orwell (1949)\n",
    "print(book3.display_info())  # Output: 'Pride and Prejudice' by Jane Austen (1813)\n"
   ]
  },
  {
   "cell_type": "markdown",
   "id": "258567f2",
   "metadata": {},
   "source": [
    "In this example:\n",
    "\n",
    "book1, book2, and book3 are three different objects of the Book class, each with its own title, author, and publication year.\n",
    "\n",
    "We can use the display_info method on each object to get details specific to that object.\n"
   ]
  },
  {
   "cell_type": "markdown",
   "id": "df171a8d",
   "metadata": {},
   "source": [
    "## Organizing Objects in a List\n",
    "If you have many objects and want to manage them as a collection, you can store them in a list. For example:"
   ]
  },
  {
   "cell_type": "code",
   "execution_count": 5,
   "id": "afb9f1e0",
   "metadata": {},
   "outputs": [
    {
     "name": "stdout",
     "output_type": "stream",
     "text": [
      "'To Kill a Mockingbird' by Harper Lee (1960)\n",
      "'1984' by George Orwell (1949)\n",
      "'Pride and Prejudice' by Jane Austen (1813)\n"
     ]
    }
   ],
   "source": [
    "# Creating a list of book objects\n",
    "books = [\n",
    "    Book(\"To Kill a Mockingbird\", \"Harper Lee\", 1960),\n",
    "    Book(\"1984\", \"George Orwell\", 1949),\n",
    "    Book(\"Pride and Prejudice\", \"Jane Austen\", 1813)\n",
    "]\n",
    "\n",
    "# Looping through the list and displaying information for each book\n",
    "for book in books:\n",
    "    print(book.display_info())\n"
   ]
  },
  {
   "cell_type": "markdown",
   "id": "1ed240c7",
   "metadata": {},
   "source": [
    "In this example:\n",
    "\n",
    "books is a list containing multiple Book objects.\n",
    "\n",
    "We loop through each object in the list and call display_info to print details for each book.\n",
    "\n"
   ]
  },
  {
   "cell_type": "markdown",
   "id": "5b3b978f",
   "metadata": {},
   "source": [
    "## Summary\n",
    "\n",
    "Class: A blueprint for creating objects.\n",
    "\n",
    "Object: An instance of a class with specific data.\n",
    "\n",
    "Attributes: Data associated with an object (e.g., name and age for Person, title and author for Book).\n",
    "\n",
    "Method: Function defined within a class that performs actions (e.g., introduce for Person, display_info for Book).\n",
    "OOP allows you to create well-structured code that models real-world entities and their interactions, making it easier to manage complex projects."
   ]
  },
  {
   "cell_type": "markdown",
   "id": "9ddef42e",
   "metadata": {},
   "source": [
    "\n",
    "## Sure! Let’s break down attributes and methods in Object-Oriented Programming (OOP) in Python, explaining how to create and use them with examples.\n",
    "\n",
    "Attributes in a Class\n",
    "Attributes are variables that hold data about an object. They define the properties or characteristics of an object. Attributes can be:\n",
    "\n",
    "Instance attributes: Unique to each object (or instance) of the class.\n",
    "\n",
    "Class attributes: Shared across all instances of the class.\n",
    "\n",
    "Example:\n",
    "Let’s create a class Car that has attributes to describe its properties."
   ]
  },
  {
   "cell_type": "code",
   "execution_count": 8,
   "id": "c05a3d1f",
   "metadata": {},
   "outputs": [],
   "source": [
    "class Car:\n",
    "    # Class attribute - shared by all instances of the class\n",
    "    wheels = 4\n",
    "    \n",
    "    def __init__(self, make, model, year):\n",
    "        # Instance attributes - unique to each object\n",
    "        self.make = make\n",
    "        self.model = model\n",
    "        self.year = year\n"
   ]
  },
  {
   "cell_type": "markdown",
   "id": "23ace89c",
   "metadata": {},
   "source": [
    "In this example:\n",
    "\n",
    "wheels is a class attribute: All Car objects will have 4 wheels by default.\n",
    "make, model, and year are instance attributes: Each Car object will have unique values for make, model, and year."
   ]
  },
  {
   "cell_type": "code",
   "execution_count": 9,
   "id": "66736257",
   "metadata": {},
   "outputs": [
    {
     "name": "stdout",
     "output_type": "stream",
     "text": [
      "4\n",
      "4\n",
      "Toyota\n",
      "Civic\n",
      "2020\n"
     ]
    }
   ],
   "source": [
    "#using attributes\n",
    "\n",
    "# Creating two different Car objects\n",
    "car1 = Car(\"Toyota\", \"Camry\", 2020)\n",
    "car2 = Car(\"Honda\", \"Civic\", 2021)\n",
    "\n",
    "# Accessing class attribute\n",
    "print(car1.wheels)  # Output: 4\n",
    "print(car2.wheels)  # Output: 4\n",
    "\n",
    "# Accessing instance attributes\n",
    "print(car1.make)    # Output: Toyota\n",
    "print(car2.model)   # Output: Civic\n",
    "print(car1.year)    # Output: 2020\n"
   ]
  },
  {
   "cell_type": "markdown",
   "id": "266c97f4",
   "metadata": {},
   "source": [
    "Each car has a unique make, model, and year, but both share the same wheels attribute.\n",
    "\n"
   ]
  },
  {
   "cell_type": "markdown",
   "id": "a60dc11c",
   "metadata": {},
   "source": [
    "## Methods in a Class\n",
    "Methods are functions defined within a class that describe the behaviors or actions that an object of the class can perform. \n",
    "Methods are called on objects and often operate on the object’s attributes.\n",
    "\n",
    "### Types of Methods:\n",
    "Instance methods: Operate on the instance’s attributes.\n",
    "\n",
    "Class methods: Operate on class-level data and are marked with @classmethod.\n",
    "\n",
    "Static methods: Independent functions within the class that don’t modify object or class-level attributes, marked with @staticmethod.\n",
    "\n",
    "Example with Instance Methods:\n",
    "Let’s add some methods to our Car class to demonstrate actions it can perform."
   ]
  },
  {
   "cell_type": "code",
   "execution_count": 10,
   "id": "837bf490",
   "metadata": {},
   "outputs": [],
   "source": [
    "class Car:\n",
    "    wheels = 4  # Class attribute\n",
    "\n",
    "    def __init__(self, make, model, year):\n",
    "        self.make = make  # Instance attribute\n",
    "        self.model = model\n",
    "        self.year = year\n",
    "    \n",
    "    # Instance method\n",
    "    def start_engine(self):\n",
    "        return f\"The {self.make} {self.model} engine has started.\"\n",
    "\n",
    "    # Another instance method\n",
    "    def stop_engine(self):\n",
    "        return f\"The {self.make} {self.model} engine has stopped.\"\n"
   ]
  },
  {
   "cell_type": "markdown",
   "id": "8ff962ae",
   "metadata": {},
   "source": [
    "In this example:\n",
    "\n",
    "start_engine and stop_engine are instance methods. They perform actions using the object’s make and model attributes."
   ]
  },
  {
   "cell_type": "code",
   "execution_count": 11,
   "id": "b1030f25",
   "metadata": {},
   "outputs": [
    {
     "name": "stdout",
     "output_type": "stream",
     "text": [
      "The Toyota Camry engine has started.\n",
      "The Toyota Camry engine has stopped.\n"
     ]
    }
   ],
   "source": [
    "#Using methods\n",
    "\n",
    "car1 = Car(\"Toyota\", \"Camry\", 2020)\n",
    "\n",
    "# Calling methods on the car1 object\n",
    "print(car1.start_engine())  # Output: The Toyota Camry engine has started.\n",
    "print(car1.stop_engine())   # Output: The Toyota Camry engine has stopped.\n"
   ]
  },
  {
   "cell_type": "markdown",
   "id": "d86c34ed",
   "metadata": {},
   "source": [
    "## Class Method Example\n",
    "\n",
    "Class methods are methods that work with the class itself, rather than individual instances. They are often used for operations that are related to the class as a whole, rather than any particular instance. To define a class method, we use the @classmethod decorator and pass cls as the first argument."
   ]
  },
  {
   "cell_type": "code",
   "execution_count": 12,
   "id": "38fbd074",
   "metadata": {},
   "outputs": [
    {
     "name": "stdout",
     "output_type": "stream",
     "text": [
      "Number of wheels changed to 6\n"
     ]
    }
   ],
   "source": [
    "class Car:\n",
    "    wheels = 4  # Class attribute\n",
    "\n",
    "    def __init__(self, make, model, year):\n",
    "        self.make = make\n",
    "        self.model = model\n",
    "        self.year = year\n",
    "    \n",
    "    @classmethod\n",
    "    def change_wheels(cls, new_wheels):\n",
    "        cls.wheels = new_wheels\n",
    "        return f\"Number of wheels changed to {cls.wheels}\"\n",
    "\n",
    "# Changing the class attribute using a class method\n",
    "print(Car.change_wheels(6))  # Output: Number of wheels changed to 6\n"
   ]
  },
  {
   "cell_type": "markdown",
   "id": "67bc6091",
   "metadata": {},
   "source": [
    "## Static Method Example\n",
    "Static methods do not modify any attributes of the class or object. They are like regular functions but grouped within the class for organizational purposes. We use the @staticmethod decorator to define them.\n",
    "\n",
    "\n"
   ]
  },
  {
   "cell_type": "code",
   "execution_count": 13,
   "id": "57697c8f",
   "metadata": {},
   "outputs": [
    {
     "name": "stdout",
     "output_type": "stream",
     "text": [
      "Vroom! Vroom!\n"
     ]
    }
   ],
   "source": [
    "class Car:\n",
    "    def __init__(self, make, model, year):\n",
    "        self.make = make\n",
    "        self.model = model\n",
    "        self.year = year\n",
    "\n",
    "    @staticmethod\n",
    "    def car_sound():\n",
    "        return \"Vroom! Vroom!\"\n",
    "\n",
    "# Calling the static method\n",
    "print(Car.car_sound())  # Output: Vroom! Vroom!\n"
   ]
  },
  {
   "cell_type": "markdown",
   "id": "a8956d8e",
   "metadata": {},
   "source": [
    "The car_sound method does not use any attributes of Car, so it’s marked as a static method.\n",
    "\n",
    "## Summary\n",
    "Attributes are data values stored in an object:\n",
    "Instance attributes: Unique to each object, set in the __init__ method.\n",
    "\n",
    "Class attributes: Shared across all objects of the class, defined directly in the class body.\n",
    "\n",
    "Methods are functions that define actions for the objects:\n",
    "\n",
    "Instance methods: Operate on instance attributes, using self as the first parameter.\n",
    "\n",
    "Class methods: Operate on class-level data, using @classmethod and cls.\n",
    "\n",
    "Static methods: Independent functions within the class, defined with @staticmethod.\n",
    "\n",
    "This helps encapsulate behavior and data, making the code modular, organized, and easy to maintain."
   ]
  },
  {
   "cell_type": "code",
   "execution_count": null,
   "id": "f4dc7afc",
   "metadata": {},
   "outputs": [],
   "source": []
  }
 ],
 "metadata": {
  "kernelspec": {
   "display_name": "Python 3 (ipykernel)",
   "language": "python",
   "name": "python3"
  },
  "language_info": {
   "codemirror_mode": {
    "name": "ipython",
    "version": 3
   },
   "file_extension": ".py",
   "mimetype": "text/x-python",
   "name": "python",
   "nbconvert_exporter": "python",
   "pygments_lexer": "ipython3",
   "version": "3.9.12"
  }
 },
 "nbformat": 4,
 "nbformat_minor": 5
}
