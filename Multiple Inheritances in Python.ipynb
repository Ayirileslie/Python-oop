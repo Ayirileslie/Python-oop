{
 "cells": [
  {
   "cell_type": "code",
   "execution_count": 4,
   "id": "7fec69b7",
   "metadata": {},
   "outputs": [],
   "source": [
    "class Human:\n",
    "    def eat(self):\n",
    "        print(\"I love to eat\")\n",
    "    def work(self):\n",
    "        print(\"I can work\")\n",
    "    \n",
    "class Male:\n",
    "    def flirt(self):\n",
    "        print(\"I love to flirt\")\n",
    "    def work(self):\n",
    "        print(\"I can code\")\n",
    "    \n",
    "class Boy(Human,Male):\n",
    "    def sleep(self):\n",
    "        print(\"I can sleep\")\n",
    "    def work(self):\n",
    "        print(\"I can cook\")\n",
    "\n",
    "boy1=Boy()\n"
   ]
  },
  {
   "cell_type": "code",
   "execution_count": 5,
   "id": "0649c108",
   "metadata": {},
   "outputs": [
    {
     "name": "stdout",
     "output_type": "stream",
     "text": [
      "I love to flirt\n",
      "None\n"
     ]
    }
   ],
   "source": [
    "print(boy1.flirt())"
   ]
  },
  {
   "cell_type": "code",
   "execution_count": 8,
   "id": "8fcbf0ea",
   "metadata": {},
   "outputs": [
    {
     "name": "stdout",
     "output_type": "stream",
     "text": [
      "I can cook\n",
      "None\n"
     ]
    },
    {
     "ename": "AttributeError",
     "evalue": "'Boy' object has no attribute 'mro'",
     "output_type": "error",
     "traceback": [
      "\u001b[1;31m---------------------------------------------------------------------------\u001b[0m",
      "\u001b[1;31mAttributeError\u001b[0m                            Traceback (most recent call last)",
      "Input \u001b[1;32mIn [8]\u001b[0m, in \u001b[0;36m<cell line: 3>\u001b[1;34m()\u001b[0m\n\u001b[0;32m      1\u001b[0m \u001b[38;5;28mprint\u001b[39m(boy1\u001b[38;5;241m.\u001b[39mwork())\n\u001b[1;32m----> 3\u001b[0m \u001b[38;5;28mprint\u001b[39m(\u001b[43mboy1\u001b[49m\u001b[38;5;241;43m.\u001b[39;49m\u001b[43mmro\u001b[49m())\n",
      "\u001b[1;31mAttributeError\u001b[0m: 'Boy' object has no attribute 'mro'"
     ]
    }
   ],
   "source": [
    "print(boy1.work())\n",
    "\n",
    "print(boy1.mro())"
   ]
  },
  {
   "cell_type": "code",
   "execution_count": null,
   "id": "d697393a",
   "metadata": {},
   "outputs": [],
   "source": []
  }
 ],
 "metadata": {
  "kernelspec": {
   "display_name": "Python 3 (ipykernel)",
   "language": "python",
   "name": "python3"
  },
  "language_info": {
   "codemirror_mode": {
    "name": "ipython",
    "version": 3
   },
   "file_extension": ".py",
   "mimetype": "text/x-python",
   "name": "python",
   "nbconvert_exporter": "python",
   "pygments_lexer": "ipython3",
   "version": "3.9.12"
  }
 },
 "nbformat": 4,
 "nbformat_minor": 5
}
