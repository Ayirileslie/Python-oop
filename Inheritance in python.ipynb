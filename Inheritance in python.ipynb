{
 "cells": [
  {
   "cell_type": "code",
   "execution_count": 16,
   "id": "8e27ab25",
   "metadata": {},
   "outputs": [
    {
     "name": "stdout",
     "output_type": "stream",
     "text": [
      "I can eat\n",
      "None\n",
      "1\n",
      "Ayiri\n",
      "2\n"
     ]
    }
   ],
   "source": [
    "class Human:\n",
    "    def __init__(self,num_heart):\n",
    "        self.eyes =2\n",
    "        self.nose=1\n",
    "        self.heart=num_heart\n",
    "    def eat(self):\n",
    "        print(\"I can eat\")\n",
    "    def work(self):\n",
    "        print(\"I can work\")\n",
    "        \n",
    "class Male(Human):\n",
    "    def __init__(self,name,heart):\n",
    "        super().__init__(heart)\n",
    "        self.name=name\n",
    "    def Flirt(self):\n",
    "        print(\"I can flirt\")\n",
    "    def Work(self):\n",
    "        super().work()\n",
    "        print(\"I can code\")\n",
    "\n",
    "Male1 = Male('Ayiri',2)\n",
    "print(Male1.eat())\n",
    "print(Male1.nose)\n",
    "print(Male1.name)\n",
    "print(Male1.heart)\n",
    "        "
   ]
  },
  {
   "cell_type": "code",
   "execution_count": null,
   "id": "111951fa",
   "metadata": {},
   "outputs": [],
   "source": []
  }
 ],
 "metadata": {
  "kernelspec": {
   "display_name": "Python 3 (ipykernel)",
   "language": "python",
   "name": "python3"
  },
  "language_info": {
   "codemirror_mode": {
    "name": "ipython",
    "version": 3
   },
   "file_extension": ".py",
   "mimetype": "text/x-python",
   "name": "python",
   "nbconvert_exporter": "python",
   "pygments_lexer": "ipython3",
   "version": "3.9.12"
  }
 },
 "nbformat": 4,
 "nbformat_minor": 5
}
