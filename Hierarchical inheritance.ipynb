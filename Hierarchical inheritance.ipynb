{
 "cells": [
  {
   "cell_type": "code",
   "execution_count": 32,
   "id": "16e30fd9",
   "metadata": {},
   "outputs": [],
   "source": [
    "class Human:\n",
    "    def __init__(self,name,age):\n",
    "        self.name=name\n",
    "        self.age=age\n",
    "    def ShowDetails(self):\n",
    "        print(f\"name: {self.name}, age : {self.age}\")\n",
    "    def eat(self):\n",
    "        print(\"I can eat\")\n",
    "    \n",
    "class Male(Human):\n",
    "    def __init__(self,nname,age,location):\n",
    "        Human.__init__(self,nname,age)\n",
    "        self.location=location\n",
    "        \n",
    "    def sleep(self):\n",
    "        print(\"I can sleep\")\n",
    "    \n",
    "class Female(Human):\n",
    "    def __init__(self,name,age,can_dance):\n",
    "        super().__init__(name,age)\n",
    "        self.dance =can_dance\n",
    "    def work(self):\n",
    "        print(\"I can work\")"
   ]
  },
  {
   "cell_type": "code",
   "execution_count": 34,
   "id": "c255e260",
   "metadata": {},
   "outputs": [],
   "source": [
    "f1 = Female('jezrel',18,True)"
   ]
  },
  {
   "cell_type": "code",
   "execution_count": 35,
   "id": "0f65004c",
   "metadata": {},
   "outputs": [
    {
     "name": "stdout",
     "output_type": "stream",
     "text": [
      "I can eat\n"
     ]
    }
   ],
   "source": [
    "f1.eat()"
   ]
  },
  {
   "cell_type": "code",
   "execution_count": 36,
   "id": "98ac2a13",
   "metadata": {},
   "outputs": [
    {
     "data": {
      "text/plain": [
       "'jezrel'"
      ]
     },
     "execution_count": 36,
     "metadata": {},
     "output_type": "execute_result"
    }
   ],
   "source": [
    "f1.name"
   ]
  },
  {
   "cell_type": "code",
   "execution_count": 37,
   "id": "7c3d0a66",
   "metadata": {},
   "outputs": [],
   "source": [
    "m1=Male('clintop','25','sef')"
   ]
  },
  {
   "cell_type": "code",
   "execution_count": 38,
   "id": "d89c2514",
   "metadata": {},
   "outputs": [
    {
     "data": {
      "text/plain": [
       "'clintop'"
      ]
     },
     "execution_count": 38,
     "metadata": {},
     "output_type": "execute_result"
    }
   ],
   "source": [
    "m1.name"
   ]
  },
  {
   "cell_type": "code",
   "execution_count": 39,
   "id": "98c29e7a",
   "metadata": {},
   "outputs": [
    {
     "data": {
      "text/plain": [
       "[__main__.Male, __main__.Human, object]"
      ]
     },
     "execution_count": 39,
     "metadata": {},
     "output_type": "execute_result"
    }
   ],
   "source": [
    "Male.mro()"
   ]
  },
  {
   "cell_type": "code",
   "execution_count": 40,
   "id": "d2679add",
   "metadata": {},
   "outputs": [
    {
     "data": {
      "text/plain": [
       "[__main__.Female, __main__.Human, object]"
      ]
     },
     "execution_count": 40,
     "metadata": {},
     "output_type": "execute_result"
    }
   ],
   "source": [
    "Female.mro()"
   ]
  },
  {
   "cell_type": "code",
   "execution_count": 41,
   "id": "9efcb3d8",
   "metadata": {},
   "outputs": [
    {
     "data": {
      "text/plain": [
       "True"
      ]
     },
     "execution_count": 41,
     "metadata": {},
     "output_type": "execute_result"
    }
   ],
   "source": [
    "f1.dance"
   ]
  },
  {
   "cell_type": "code",
   "execution_count": null,
   "id": "26c9b53b",
   "metadata": {},
   "outputs": [],
   "source": []
  }
 ],
 "metadata": {
  "kernelspec": {
   "display_name": "Python 3 (ipykernel)",
   "language": "python",
   "name": "python3"
  },
  "language_info": {
   "codemirror_mode": {
    "name": "ipython",
    "version": 3
   },
   "file_extension": ".py",
   "mimetype": "text/x-python",
   "name": "python",
   "nbconvert_exporter": "python",
   "pygments_lexer": "ipython3",
   "version": "3.9.12"
  }
 },
 "nbformat": 4,
 "nbformat_minor": 5
}
