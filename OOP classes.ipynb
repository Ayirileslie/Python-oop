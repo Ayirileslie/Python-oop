{
 "cells": [
  {
   "cell_type": "markdown",
   "id": "46157f99",
   "metadata": {},
   "source": [
    "1. Classes\n",
    "A class is a blueprint or template for creating objects. It defines the attributes (characteristics) and methods (behavior) that the objects created from the class will have.\n",
    "\n",
    "For example, let’s define a simple Car class:"
   ]
  },
  {
   "cell_type": "code",
   "execution_count": 1,
   "id": "0be90e5c",
   "metadata": {},
   "outputs": [],
   "source": [
    "class Car:\n",
    "    # Constructor method to initialize the object's attributes\n",
    "    def __init__(self, make, model, year):\n",
    "        self.make = make      # Attribute 1\n",
    "        self.model = model    # Attribute 2\n",
    "        self.year = year      # Attribute 3\n",
    "\n",
    "    # Method to describe the car\n",
    "    def describe(self):\n",
    "        return f\"{self.year} {self.make} {self.model}\"\n",
    "\n",
    "    # Method to start the car\n",
    "    def start(self):\n",
    "        return f\"The {self.model} is now starting.\"\n",
    "\n"
   ]
  },
  {
   "cell_type": "markdown",
   "id": "e4013c2f",
   "metadata": {},
   "source": [
    "2. Objects\n",
    "An object is an instance of a class. When we create an object from a class, we provide specific values for the attributes defined in the class."
   ]
  },
  {
   "cell_type": "code",
   "execution_count": 2,
   "id": "b3f03f11",
   "metadata": {},
   "outputs": [
    {
     "name": "stdout",
     "output_type": "stream",
     "text": [
      "Toyota\n",
      "Camry\n",
      "2020\n",
      "2020 Toyota Camry\n",
      "The Camry is now starting.\n"
     ]
    }
   ],
   "source": [
    "# Creating an object (instance) of the Car class\n",
    "my_car = Car(\"Toyota\", \"Camry\", 2020)\n",
    "\n",
    "# Accessing attributes\n",
    "print(my_car.make)   # Output: Toyota\n",
    "print(my_car.model)  # Output: Camry\n",
    "print(my_car.year)   # Output: 2020\n",
    "\n",
    "# Calling methods\n",
    "print(my_car.describe())  # Output: 2020 Toyota Camry\n",
    "print(my_car.start())     # Output: The Camry is now starting.\n"
   ]
  },
  {
   "cell_type": "markdown",
   "id": "519fc7dc",
   "metadata": {},
   "source": [
    "In this example:\n",
    "\n",
    "Car is the class.\n",
    "my_car is an object (an instance of Car).\n",
    "Attributes (make, model, and year) store data about the object.\n",
    "Methods (describe and start) define behaviors or actions that the object can perform.\n",
    "\n",
    "## 3. Attributes\n",
    "Attributes are variables that belong to an object. They represent the characteristics or properties of an object and are often initialized in the __init__ method (the constructor).\n",
    "\n",
    "In the Car class:\n",
    "\n",
    "make, model, and year are attributes.\n",
    "When we create my_car, these attributes are assigned specific values: make is \"Toyota,\" model is \"Camry,\" and year is 2020."
   ]
  },
  {
   "cell_type": "markdown",
   "id": "195426c3",
   "metadata": {},
   "source": [
    "## 4. Methods\n",
    "Methods are functions defined within a class that describe the behaviors or actions of an object.\n",
    "\n",
    "In the Car class:\n",
    "\n",
    "describe is a method that provides a summary of the car.\n",
    "start is a method that prints a message to indicate the car is starting.\n",
    "Another Example\n",
    "Let’s consider a BankAccount class to illustrate more about methods and attributes:"
   ]
  },
  {
   "cell_type": "code",
   "execution_count": 3,
   "id": "f7ddc079",
   "metadata": {},
   "outputs": [],
   "source": [
    "class BankAccount:\n",
    "    def __init__(self,owner,balance=0):\n",
    "        self.owner=owner\n",
    "        self.balance=balance\n",
    "        \n",
    "    def deposit(self,amount):\n",
    "        self.balance+=amount\n",
    "        return f\"{amount} deposited. New balance is {self.balance}\"\n",
    "    \n",
    "    def withdraw(self,amount):\n",
    "        if amount>self.balance:\n",
    "            return \"Insufficient funds\"\n",
    "        else:\n",
    "            self.balance-=amount\n",
    "            return f\"{amount} withdrawn. New balance is now {self.balance}\"\n",
    "        \n",
    "        "
   ]
  },
  {
   "cell_type": "code",
   "execution_count": 4,
   "id": "b075db45",
   "metadata": {},
   "outputs": [
    {
     "name": "stdout",
     "output_type": "stream",
     "text": [
      "Alice\n",
      "100\n",
      "50 deposited. New balance is 150\n",
      "30 withdrawn. New balance is now 120\n",
      "Insufficient funds\n"
     ]
    }
   ],
   "source": [
    "# Creating an instance of BankAccount\n",
    "account = BankAccount(\"Alice\", 100)\n",
    "\n",
    "# Accessing attributes\n",
    "print(account.owner)    # Output: Alice\n",
    "print(account.balance)  # Output: 100\n",
    "\n",
    "# Calling methods\n",
    "print(account.deposit(50))    # Output: 50 deposited. New balance is 150\n",
    "print(account.withdraw(30))   # Output: 30 withdrawn. New balance is 120\n",
    "print(account.withdraw(200))  # Output: Insufficient funds\n"
   ]
  },
  {
   "cell_type": "markdown",
   "id": "96c699fc",
   "metadata": {},
   "source": [
    "In this BankAccount example:\n",
    "\n",
    "Attributes: owner (name of the account holder) and balance (amount in the account).\n",
    "Methods: deposit and withdraw, which handle transactions on the account.\n",
    "\n",
    "Summary\n",
    "Class: Defines the structure and behaviors for objects.\n",
    "Object: An instance of a class with specific values for its attributes.\n",
    "Attributes: Variables that hold data specific to an object.\n",
    "Methods: Functions that define behaviors/actions the object can perform.\n",
    "OOP principles help make your code modular, organized, and easy to maintain!"
   ]
  },
  {
   "cell_type": "markdown",
   "id": "329cd396",
   "metadata": {},
   "source": [
    "## POP (Procedural-Oriented Programming) and OOP (Object-Oriented Programming) are two programming paradigms with distinct approaches to structuring and organizing code. Here’s a comparison to clarify their differences, with examples.\n",
    "\n",
    "### 1. Procedural-Oriented Programming (POP)\n",
    "In Procedural-Oriented Programming, the program is organized as a sequence of instructions or procedures (also called functions). The focus is on functions (or procedures) that operate on data. The data is often stored separately from the functions, and functions act directly on data to perform operations.\n",
    "\n",
    "### Key Features:\n",
    "Modularity: Functions can be reused in different parts of the program.\n",
    "Top-Down Approach: The program is divided into small functions or procedures.\n",
    "No Encapsulation: Data and functions are separate, and there’s no strict data protection.\n",
    "Example in Python:\n",
    "Here’s a simple example in which we calculate the area and perimeter of a rectangle using a POP approach:"
   ]
  },
  {
   "cell_type": "code",
   "execution_count": 5,
   "id": "874d69d6",
   "metadata": {},
   "outputs": [
    {
     "name": "stdout",
     "output_type": "stream",
     "text": [
      "Area: 15\n",
      "Perimeter: 16\n"
     ]
    }
   ],
   "source": [
    "# Procedural approach\n",
    "def calculate_area(length, width):\n",
    "    return length * width\n",
    "\n",
    "def calculate_perimeter(length, width):\n",
    "    return 2 * (length + width)\n",
    "\n",
    "# Using the functions\n",
    "length = 5\n",
    "width = 3\n",
    "\n",
    "print(\"Area:\", calculate_area(length, width))       # Output: Area: 15\n",
    "print(\"Perimeter:\", calculate_perimeter(length, width)) # Output: Perimeter: 16\n"
   ]
  },
  {
   "cell_type": "markdown",
   "id": "dafdd3a9",
   "metadata": {},
   "source": [
    "Here:\n",
    "\n",
    "Functions (calculate_area and calculate_perimeter) work on data (length and width), but there’s no class or structure to encapsulate both the data and related functions.\n",
    "\n",
    "## Advantages of POP:\n",
    "Simplicity: Works well for small programs and scripts.\n",
    "\n",
    "Low Memory Usage: Often uses less memory for small operations due to simpler data handling.\n",
    "\n",
    "## Disadvantages of POP:\n",
    "Less Reusable: Code may become repetitive and harder to reuse in complex applications.\n",
    "\n",
    "Difficult to Maintain: As programs grow, managing functions and data separately can lead to a tangled structure.\n",
    "\n",
    "Poor Data Security: No encapsulation, so data can be accessed and modified freely.\n"
   ]
  },
  {
   "cell_type": "markdown",
   "id": "2c086250",
   "metadata": {},
   "source": [
    "## 2. Object-Oriented Programming (OOP)\n",
    "In Object-Oriented Programming, the focus is on creating objects that combine data and behavior. Objects are instances of classes, and each class defines attributes (data) and methods (functions) related to that data. This approach models real-world entities and relationships.\n",
    "\n",
    "### Key Features:\n",
    "Encapsulation: Data (attributes) and functions (methods) are bundled within a class. This protects the data from being accessed or modified directly.\n",
    "\n",
    "Inheritance: Classes can inherit attributes and methods from other classes, promoting code reuse.\n",
    "\n",
    "Polymorphism: Allows using a single interface for different data types or classes.\n",
    "\n",
    "Abstraction: Focuses on hiding complex implementation details and showing only the necessary parts to the user.\n",
    "\n",
    "Example in Python:\n",
    "The same rectangle example, but using an OOP approach:"
   ]
  },
  {
   "cell_type": "code",
   "execution_count": 6,
   "id": "5cd70a5c",
   "metadata": {},
   "outputs": [
    {
     "name": "stdout",
     "output_type": "stream",
     "text": [
      "Area: 15\n",
      "Perimeter: 16\n"
     ]
    }
   ],
   "source": [
    "# Object-oriented approach\n",
    "class Rectangle:\n",
    "    def __init__(self, length, width):\n",
    "        self.length = length\n",
    "        self.width = width\n",
    "\n",
    "    def calculate_area(self):\n",
    "        return self.length * self.width\n",
    "\n",
    "    def calculate_perimeter(self):\n",
    "        return 2 * (self.length + self.width)\n",
    "\n",
    "# Creating an object (instance) of the Rectangle class\n",
    "rect = Rectangle(5, 3)\n",
    "\n",
    "# Using the methods\n",
    "print(\"Area:\", rect.calculate_area())        # Output: Area: 15\n",
    "print(\"Perimeter:\", rect.calculate_perimeter()) # Output: Perimeter: 16\n"
   ]
  },
  {
   "cell_type": "markdown",
   "id": "16646342",
   "metadata": {},
   "source": [
    "Here:\n",
    "\n",
    "Rectangle is a class, serving as a blueprint.\n",
    "rect is an object of the Rectangle class, with its own length and width attributes.\n",
    "Methods calculate_area and calculate_perimeter work on the data within the object, encapsulating both data and behavior.\n",
    "\n",
    "## Advantages of OOP:\n",
    "Modular and Reusable: Classes and objects promote code reuse and modularity.\n",
    "\n",
    "Easier Maintenance: Encapsulation and modularity make large projects easier to manage.\n",
    "\n",
    "Data Security: Encapsulation helps protect data and control how it's accessed.\n",
    "\n",
    "## Disadvantages of OOP:\n",
    "Memory Usage: OOP can use more memory since objects may store data and state.\n",
    "\n",
    "Complexity: Concepts like inheritance and polymorphism can increase complexity, especially in smaller programs."
   ]
  },
  {
   "cell_type": "code",
   "execution_count": null,
   "id": "61e707c9",
   "metadata": {},
   "outputs": [],
   "source": []
  }
 ],
 "metadata": {
  "kernelspec": {
   "display_name": "Python 3 (ipykernel)",
   "language": "python",
   "name": "python3"
  },
  "language_info": {
   "codemirror_mode": {
    "name": "ipython",
    "version": 3
   },
   "file_extension": ".py",
   "mimetype": "text/x-python",
   "name": "python",
   "nbconvert_exporter": "python",
   "pygments_lexer": "ipython3",
   "version": "3.9.12"
  }
 },
 "nbformat": 4,
 "nbformat_minor": 5
}
