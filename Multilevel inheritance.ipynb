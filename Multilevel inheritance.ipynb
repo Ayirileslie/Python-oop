{
 "cells": [
  {
   "cell_type": "code",
   "execution_count": 46,
   "id": "cf1fcaf8",
   "metadata": {},
   "outputs": [],
   "source": [
    "class Human:\n",
    "    def __init__(self,num_heart):\n",
    "        self.eyes=2\n",
    "        self.heart =num_heart\n",
    "    def eat(self):\n",
    "        print(\"I eat\")\n",
    "    def Work(self):\n",
    "        print(\"i work\")\n",
    "        \n",
    "class Male(Human):\n",
    "    def __init__(self,name):\n",
    "        self.name=name\n",
    "    def sleep(self):\n",
    "        print(\"i sleep\")\n",
    "    def Work(self):\n",
    "        print(\"i code\")\n",
    "class Boy(Male):\n",
    "    def __init__(self,can_dance,name,nheart): \n",
    "        Human.__init__(self,nheart)\n",
    "        Male.__init__(self,name)\n",
    "        self.can_dance=can_dance\n",
    "    def Work(self):\n",
    "        super().Work()   #Accesses work function from immediate parents\n",
    "        #Human.Work(self) #Access work method from human\n",
    "        print(\"i chop\")\n",
    "\n",
    "boy1 =Boy('No','Ayiri','1')"
   ]
  },
  {
   "cell_type": "code",
   "execution_count": 47,
   "id": "39064023",
   "metadata": {},
   "outputs": [
    {
     "name": "stdout",
     "output_type": "stream",
     "text": [
      "i sleep\n"
     ]
    }
   ],
   "source": [
    "boy1.sleep()"
   ]
  },
  {
   "cell_type": "code",
   "execution_count": 39,
   "id": "313d133f",
   "metadata": {},
   "outputs": [
    {
     "name": "stdout",
     "output_type": "stream",
     "text": [
      "i code\n",
      "i chop\n"
     ]
    }
   ],
   "source": [
    "boy1.Work()"
   ]
  },
  {
   "cell_type": "code",
   "execution_count": 40,
   "id": "9f4a90e5",
   "metadata": {},
   "outputs": [
    {
     "data": {
      "text/plain": [
       "'No'"
      ]
     },
     "execution_count": 40,
     "metadata": {},
     "output_type": "execute_result"
    }
   ],
   "source": [
    "boy1.can_dance"
   ]
  },
  {
   "cell_type": "code",
   "execution_count": 41,
   "id": "f7a14b8c",
   "metadata": {},
   "outputs": [
    {
     "data": {
      "text/plain": [
       "'Ayiri'"
      ]
     },
     "execution_count": 41,
     "metadata": {},
     "output_type": "execute_result"
    }
   ],
   "source": [
    "boy1.name"
   ]
  },
  {
   "cell_type": "code",
   "execution_count": 42,
   "id": "9b0876b7",
   "metadata": {},
   "outputs": [
    {
     "data": {
      "text/plain": [
       "[__main__.Boy, __main__.Male, __main__.Human, object]"
      ]
     },
     "execution_count": 42,
     "metadata": {},
     "output_type": "execute_result"
    }
   ],
   "source": [
    "Boy.mro()"
   ]
  },
  {
   "cell_type": "code",
   "execution_count": 43,
   "id": "0dec7a7e",
   "metadata": {},
   "outputs": [
    {
     "data": {
      "text/plain": [
       "'1'"
      ]
     },
     "execution_count": 43,
     "metadata": {},
     "output_type": "execute_result"
    }
   ],
   "source": [
    "boy1.heart"
   ]
  },
  {
   "cell_type": "code",
   "execution_count": null,
   "id": "224b41bf",
   "metadata": {},
   "outputs": [],
   "source": []
  }
 ],
 "metadata": {
  "kernelspec": {
   "display_name": "Python 3 (ipykernel)",
   "language": "python",
   "name": "python3"
  },
  "language_info": {
   "codemirror_mode": {
    "name": "ipython",
    "version": 3
   },
   "file_extension": ".py",
   "mimetype": "text/x-python",
   "name": "python",
   "nbconvert_exporter": "python",
   "pygments_lexer": "ipython3",
   "version": "3.9.12"
  }
 },
 "nbformat": 4,
 "nbformat_minor": 5
}
